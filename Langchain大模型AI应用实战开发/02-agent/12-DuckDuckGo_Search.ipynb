{
 "cells": [
  {
   "cell_type": "markdown",
   "id": "4a4854fa",
   "metadata": {},
   "source": [
    "## DuckDuckGo \n",
    "DuckDuckGo 是一款注重隐私的网络搜索引擎，由 Gabriel Weinberg 创立于 2008 年。这款搜索引擎的特点在于不存储用户个人信息，不跟踪用户的搜索历史，从而保护用户的隐私。\n",
    "\n",
    "以下是 DuckDuckGo 的一些主要特点：\n",
    "\n",
    "1. 隐私保护：DuckDuckGo 不存储用户搜索历史，不跟踪用户，不建立用户档案。这意味着用户在搜索时可以保持匿名，不用担心搜索历史被用于广告或其他目的。\n",
    "2. 清晰的搜索结果：DuckDuckGo 的搜索结果页设计简洁，易于阅读。它还提供了一些独特的功能，如“零点击信息”（Zero-click Info），可以直接在搜索结果页显示相关信息，无需点击进入其他网页。\n",
    "3. 集成其他服务：DuckDuckGo 集成了许多其他服务，如gMaps、gMaps Street View、Wikipedia、YouTube等。用户可以直接在搜索结果页使用这些服务，无需打开其他网站。\n",
    "4. 搜索速度快：DuckDuckGo 的搜索速度较快，能够快速响应用户的搜索请求。\n",
    "5. 移动应用：DuckDuckGo 提供了移动应用，用户可以在智能手机或平板电脑上使用这款搜索引擎。\n",
    "6. 浏览器扩展：DuckDuckGo 还提供了一些浏览器扩展，如DuckDuckGo Privacy Essentials，可以帮助用户更好地保护隐私。\n",
    "\n",
    "然而，DuckDuckGo 在中国大陆无法直接访问。如果您在中国大陆地区，建议使用合规的搜索引擎，如百度、搜狗等。\n"
   ]
  },
  {
   "cell_type": "code",
   "execution_count": 1,
   "id": "c11809df",
   "metadata": {},
   "outputs": [],
   "source": [
    "from langchain_community.tools import DuckDuckGoSearchRun"
   ]
  },
  {
   "cell_type": "code",
   "execution_count": 3,
   "id": "07dd6dc2",
   "metadata": {},
   "outputs": [],
   "source": [
    "search = DuckDuckGoSearchRun()"
   ]
  },
  {
   "cell_type": "code",
   "execution_count": 7,
   "id": "6efbae09",
   "metadata": {},
   "outputs": [
    {
     "data": {
      "text/plain": [
       "'227.4万. YOUNG 弹簧舞来了 🔥. 161.2万. 《YOUNG》MV 预告（30s ver.） 倒计时1天!. 253.8万. 《没有意外》MV. 蔡徐坤，抖音音乐人、歌手。. 蔡徐坤的抖音主页、视频、合集以及作品的粉丝量、点赞量。. 来抖音，记录美好生活!. 25岁的蔡徐坤在未婚堕胎事件后出国躲避风头，回归国内音乐界，发布新歌获得超过10万人好评。他的音乐风格独特、舞台表现力出色，引发粉丝和业内人士的关注和支持。 从6月26日蔡徐坤首次被爆料以来，网络上关于他的新料接连出现、议论纷纷。. 从蔡徐坤一方的态度来看，与此前被爆料过的艺人操作有些反常。. 此前只要网络上出现艺人的负面舆情，通常的操作是先进行澄清，紧接着就是聘请律师，亮出律师函 ... 近日，歌手蔡徐坤被爆料在2021年5月与C姓女生发生关系导致对方怀孕打胎，引发网友热议及关注。 今日（7月3日）11：30，蔡徐坤终于针对近期事件做出了回应。 近日，蔡徐坤杂志的文字访谈公开在了互联网上，他用质朴真实的语言讲述了自己创作歌曲《RIDE OR DIE(至死不渝)》的幕后故事和创作心情，以及回答了来自多领域从业者的提问，从这些简单的问答中，能窥探到其真实并…'"
      ]
     },
     "execution_count": 7,
     "metadata": {},
     "output_type": "execute_result"
    }
   ],
   "source": [
    "search.run(\"蔡徐坤\")"
   ]
  },
  {
   "cell_type": "markdown",
   "id": "c72d10e6",
   "metadata": {},
   "source": [
    "要获取更多附加信息（例如链接、来源），请使用 DuckDuckGoSearchResults()"
   ]
  },
  {
   "cell_type": "code",
   "execution_count": 10,
   "id": "7d6f8454",
   "metadata": {},
   "outputs": [],
   "source": [
    "from langchain_community.tools import DuckDuckGoSearchResults"
   ]
  },
  {
   "cell_type": "code",
   "execution_count": 11,
   "id": "07075a1a",
   "metadata": {},
   "outputs": [],
   "source": [
    "search = DuckDuckGoSearchResults()"
   ]
  },
  {
   "cell_type": "code",
   "execution_count": 12,
   "id": "72edb56f",
   "metadata": {},
   "outputs": [
    {
     "data": {
      "text/plain": [
       "'[snippet: 刘亦菲的小姨，现在可能五六十岁左右，高个子，也好美，身上自带一种松弛感。下图是她40多岁时与刘亦菲的合影，状态非常好。翻看她年轻时的照片，妥妥的高颜值。值得注意的是，她曾在《翡翠麻将》出演过角色。那时候看起来和刘亦菲妈妈好像。, title: 刘亦菲与表姐合照，果然是一家子漂亮基因 - 中华网新闻频道, link: https://news.china.com/socialgd/10000169/20240324/46294110_all.html], [snippet: 8月25日晚，刘亦菲在个人社交平台分享了一组36岁生日现场照，虽然没有配任何文字，但一连串的爱心、生日蛋糕等小表情却将刘亦菲当下的好心情完美展示。看得出来，今年的生日，刘亦菲依旧是开心到飞起。, title: 刘亦菲晒36岁生日现场照，被鲜花玩偶簇拥，嘟嘴卖萌开心 ..., link: https://new.qq.com/rain/a/20230825A0AFTV00], [snippet: 并且，如今，由刘亦菲担任女主角的又一部都市题材新剧——《玫瑰故事》，也是再次未播先火! 不仅一经开拍，就备受关注。而且，近日，更是在社交平台，获得了\"央视电视剧\"，在线点名预热，并引发不俗反响。, title: 刘亦菲又一新剧未播先火!获央视点名预热，阵容顶级有望再 ..., link: https://new.qq.com/rain/a/20230903A071V600], [snippet: 刘亦菲作为该品牌全球代言人，此次亮相依旧是闪耀全场，身着LV2024春夏系列小黑裙亮相，复古摩登又不失俏皮，在巴黎的夜色下，精致的如同贵族公主。秀场上刘亦菲作为品牌代言人也十分敬业，..., title: 巴黎LV秀场：Lisa妆容油腻，刘亦菲白丝袜引群嘲，宋茜赢得 ..., link: https://new.qq.com/rain/a/20240306A03NCJ00]'"
      ]
     },
     "execution_count": 12,
     "metadata": {},
     "output_type": "execute_result"
    }
   ],
   "source": [
    "search.run(\"刘亦菲\")"
   ]
  },
  {
   "cell_type": "markdown",
   "id": "efe4d9bb",
   "metadata": {},
   "source": [
    "您也可以只搜索新闻文章。使用关键字 backend=\"news\""
   ]
  },
  {
   "cell_type": "code",
   "execution_count": 13,
   "id": "63d6c4ae",
   "metadata": {},
   "outputs": [],
   "source": [
    "search = DuckDuckGoSearchResults(backend=\"news\")"
   ]
  },
  {
   "cell_type": "code",
   "execution_count": 14,
   "id": "1d8f3d38",
   "metadata": {
    "scrolled": true
   },
   "outputs": [
    {
     "data": {
      "text/plain": [
       "'[snippet: 近日，刘亦菲的表姐在个人社交账号上分享了一张与刘亦菲的同框自拍，照片一经发布，立即引发了广大网友的热烈讨论和关注。照片中，刘亦菲与表姐亲密贴贴，笑容满面，姐妹情深不言而喻，两人都展现出了极高的颜值和优雅气质，让人不禁赞叹天仙姐姐家的基因之强大。 从照片中可以看出，刘亦菲与表姐的关系非常亲密。两人紧贴着彼此，头靠着头，微笑着看向镜头，显得非常自然和放松。刘亦菲身穿简单的黑色上衣，，而表姐则选择了粉色, title: 刘亦菲与表姐自拍大秀姐妹情，笑容甜美仙气四溢，家族基因太惊艳!, link: https://new.qq.com/rain/a/20240324A06PO200, date: 2024-03-24T13:09:00+00:00, source: 腾讯网], [snippet: 深夜的星空璀璨，而3月23日凌晨的社交网络更是星光熠熠。刘亦菲的表姐突然在社交平台上抛出了一枚重磅炸弹——她与表妹刘亦菲的亲密合照，并配文：\"表妹，爱你哟。\"这一举动瞬间引发了网友们的热烈讨论和羡慕之情。, title: 刘亦菲表姐晒两人合照：姐妹俩合影好开心，茜茜素颜笑容甜美, link: https://www.sohu.com/a/766398203_121667839, date: 2024-03-24T00:37:00+00:00, source: 搜狐], [snippet: 刘晓莉，不仅是一位舞台女神，更是一位伟大的母亲。她从小就展现出对舞蹈的热爱与才华，这份热爱在她的舞台表演中得到了完美的展现。然而，在她光鲜的舞台背后，是一个承担起照顾女儿的责任的母亲形象。, title: 刘亦菲母亲刘晓莉：长得比女儿还漂亮，两婚两离，65岁单身也幸, link: https://www.sohu.com/a/766397462_121667489, date: 2024-03-24T00:37:00+00:00, source: 搜狐], [snippet: 大陆女星刘亦菲出了名是从小美到大的美人，还以古装扮相时散发出的空灵气质，获得「神仙姐姐」封号，但过去她曾自曝是全家最丑的，让外界都感到不可思议。日前刘亦菲与家人聚餐，她的表姊晒出两人合照，在全妆的表姊身边几乎素顏的她美到发光，网友不禁讚嘆「一家子好看基因」。 刘亦菲在亚洲拥有超高人气，每每有新作品都有高收视和高讨论度，最新作品《玫瑰的故事》从拍摄至今就话题不断。近日刘亦菲表姊在社群公开两人合照，开, title: 刘亦菲自称全家最丑的 素顏同框表姊网讚：一家子好看基因, link: https://www.chinatimes.com/cn/realtimenews/20240324000024-260404?ctrack=pc_main_star_p03, date: 2024-03-23T16:02:00+00:00, source: 中時新聞網]'"
      ]
     },
     "execution_count": 14,
     "metadata": {},
     "output_type": "execute_result"
    }
   ],
   "source": [
    "search.run(\"刘亦菲\")"
   ]
  },
  {
   "cell_type": "markdown",
   "id": "8a00357f",
   "metadata": {},
   "source": [
    "您也可以直接将自定义 DuckDuckGoSearchAPIWrapper 传递给 DuckDuckGoSearchResults 。因此，您可以更好地控制搜索结果。"
   ]
  },
  {
   "cell_type": "code",
   "execution_count": 15,
   "id": "601e8eed",
   "metadata": {},
   "outputs": [],
   "source": [
    "from langchain_community.utilities import DuckDuckGoSearchAPIWrapper\n",
    "\n",
    "wrapper = DuckDuckGoSearchAPIWrapper(region=\"de-de\", max_results=2,source=\"news\")"
   ]
  },
  {
   "cell_type": "code",
   "execution_count": 16,
   "id": "132db208",
   "metadata": {},
   "outputs": [
    {
     "data": {
      "text/plain": [
       "'[snippet: 刘亦菲的小姨，现在可能五六十岁左右，高个子，也好美，身上自带一种松弛感。下图是她40多岁时与刘亦菲的合影，状态非常好。翻看她年轻时的照片，妥妥的高颜值。值得注意的是，她曾在《翡翠麻将》出演过角色。那时候看起来和刘亦菲妈妈好像。, title: 刘亦菲与表姐合照，果然是一家子漂亮基因 - 中华网新闻频道, link: https://news.china.com/socialgd/10000169/20240324/46294110_all.html], [snippet: 刘亦菲表姐的这次晒照不仅让粉丝们看到了她们家族之间的深厚情感，也让人们感受到了生活中的美好与温馨。 在这个充满竞争和压力的娱乐圈里，刘亦菲和表姐都能够保持自己的生活方式和态度，这样的心态和勇气无疑值得我们学习和借鉴。, title: 刘亦菲表姐罕见晒合照，家族颜值爆表，神仙姐姐美出新高度!, link: https://baijiahao.baidu.com/s?id=1794373428042210920], [snippet: 劉亦菲與表姊感情很好。（圖／翻攝自微博／劉亦菲） 不只表姊的顏值令人震驚，去年微博上流出劉亦菲外婆、媽媽、阿姨的照片，當時就令網友們紛紛讚嘆這家人的基因實在太厲害，當時還一度讓關鍵字登上熱搜。 劉亦菲一家人基因令人讚嘆。, title: 劉亦菲罕同框表姊!「秀氣五官＋凍齡瓜子臉」網驚呼 ..., link: https://star.ettoday.net/news/2706354], [snippet: 刘亦菲在成名后，曾遭遇过各种压力与挑战，而母亲刘晓莉始终是她坚强的后盾。在刘亦菲感情经历曝光后，刘晓莉更是以坚定的态度守护着女儿的幸福。除了娱乐圈的光环，母女之间的故事更是打动人心。刘晓莉的支持与付出，是母爱与家庭责任的完美结合。, title: 刘亦菲母亲刘晓莉：长得比女儿还漂亮，两婚两离，65岁 ..., link: https://www.sohu.com/a/766397462_121667489]'"
      ]
     },
     "execution_count": 16,
     "metadata": {},
     "output_type": "execute_result"
    }
   ],
   "source": [
    "search = DuckDuckGoSearchResults(api_wrapper=wrapper, )\n",
    "search.run(\"刘亦菲\")"
   ]
  },
  {
   "cell_type": "markdown",
   "id": "b63b6cf4",
   "metadata": {},
   "source": [
    "https://pypi.org/project/duckduckgo-search/\n",
    "```\n",
    "param max_results: int = 5 \n",
    "param region: Optional[str] = 'wt-wt'\n",
    "param source: str = 'text'\n",
    "```       "
   ]
  },
  {
   "cell_type": "code",
   "execution_count": null,
   "id": "0ef78a07-1a2a-46f8-9bc9-ae45f9bd706c",
   "metadata": {},
   "outputs": [],
   "source": []
  }
 ],
 "metadata": {
  "kernelspec": {
   "display_name": "Python 3 (ipykernel)",
   "language": "python",
   "name": "python3"
  },
  "language_info": {
   "codemirror_mode": {
    "name": "ipython",
    "version": 3
   },
   "file_extension": ".py",
   "mimetype": "text/x-python",
   "name": "python",
   "nbconvert_exporter": "python",
   "pygments_lexer": "ipython3",
   "version": "3.10.14"
  }
 },
 "nbformat": 4,
 "nbformat_minor": 5
}
