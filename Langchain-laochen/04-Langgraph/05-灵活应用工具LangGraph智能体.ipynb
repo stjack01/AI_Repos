{
 "cells": [
  {
   "attachments": {
    "bd48b628-20ac-4259-8c62-f4788a408a4f.png": {
     "image/png": "[encoded data removed]"
    }
   },
   "cell_type": "markdown",
   "id": "428b497f-9267-49fd-9fb2-ca8a65a5f1a1",
   "metadata": {},
   "source": [
    "![image.png](attachment:bd48b628-20ac-4259-8c62-f4788a408a4f.png)"
   ]
  },
  {
   "cell_type": "code",
   "execution_count": 1,
   "id": "772fa530-764f-4913-9e54-6f3fa4b1fdac",
   "metadata": {},
   "outputs": [],
   "source": [
    "from langchain_openai import ChatOpenAI\n",
    "\n",
    "llm = ChatOpenAI(\n",
    "    openai_api_key = \"empty\",\n",
    "    openai_api_base=\"http://127.0.0.1:1234/v1\",\n",
    "    temperature=0.3\n",
    ")"
   ]
  },
  {
   "cell_type": "code",
   "execution_count": 2,
   "id": "3adc6561-8a1b-4093-be0c-4ce362f526a6",
   "metadata": {},
   "outputs": [],
   "source": [
    "promptTemplate = \"\"\"尽可能帮助用户回答任何的问题。\n",
    "\n",
    "您可以使用以下工具来帮忙解决问题，如果已经知道了答案，也可以直接回答。\n",
    "\n",
    "{tools}\n",
    "\n",
    "回复我时，请以下面2种格式之一进行回复：\n",
    "\n",
    "格式1：如果你希望使用工具，请使用此JSON格式回复内容：\n",
    "{{\n",
    "    \"reason\": string, //叙述使用工具的原因\n",
    "    \"action\": string, //要使用的工具。必须是 {tool_names} 之一\n",
    "    \"action_input\": string //工具的输入\n",
    "}}\n",
    "\n",
    "格式2：如果你认为你已经有答案或者已经通过使用工具找到了答案，想直接对用户的输入作出回复，请使用此JSON格式回复：\n",
    "{{\n",
    "    \"action\":\"Final Answer\",\n",
    "    \"answer\": string //最终回复问题的答案放在这里\n",
    "}}\n",
    "\n",
    "下面是用户的输入，请记住只回复上面的2种格式的其中1种，必须以json格式回复，不要回复其他内容。\n",
    "用户的输入：{input}\n",
    "\"\"\""
   ]
  },
  {
   "cell_type": "code",
   "execution_count": 3,
   "id": "38af5704-24d3-4e41-89b6-c0ab6e55e1ff",
   "metadata": {},
   "outputs": [],
   "source": [
    "from langchain_core.prompts import ChatPromptTemplate,MessagesPlaceholder\n",
    "\n",
    "prompt = ChatPromptTemplate.from_messages([\n",
    "    (\"system\",\"你是非常强大的助手，你可以使用各种工具来完成人类交给的问题和任务\"),\n",
    "    (\"user\",promptTemplate),\n",
    "    MessagesPlaceholder(variable_name=\"agent_scratchpad\")\n",
    "])\n",
    "\n",
    "\n",
    "\n"
   ]
  },
  {
   "cell_type": "code",
   "execution_count": 8,
   "id": "d5d19b0c-0b54-42ac-8568-13cf563b3003",
   "metadata": {},
   "outputs": [
    {
     "data": {
      "text/plain": [
       "[{'title': '2023年刘亦菲宝格丽的三次活动',\n",
       "  'content': '2023年12月24日 — 刘亦菲最近造型团队摸到灵感了，她的五官和身材特点特别适合油画风。自从前段时期柳宗源拍了这个系列之后的活动GQ，还有芭莎封面视频，宝格丽晚宴和 ...',\n",
       "  'url': 'https://m.163.com/dy/article/IMOEG9KF05562JCP.html'},\n",
       " {'title': '刘亦菲最近活动',\n",
       "  'content': '12月21日，刘亦菲出席澳门国际电影节活动造型曝光，照片中，刘亦菲身穿一袭天蓝色抹胸连衣裙，外搭同色系披风，性感又迷人。',\n",
       "  'url': 'https://www.toutiao.com/keyword/214095189'},\n",
       " {'title': '刘亦菲百万穿搭亮相宝格丽活动，生图暴露麒麟臂',\n",
       "  'content': '2023年11月16日 — 最近，女星刘亦菲现身奢牌活动，早在开场之前，大家就对刘亦菲的现场状态充满期待。刘亦菲团队方面也早早放出美图，然而，在看过刘亦菲的现场照之后，却 ...',\n",
       "  'url': 'https://www.163.com/dy/article/IJMSVED405179RJN.html'}]"
      ]
     },
     "execution_count": 8,
     "metadata": {},
     "output_type": "execute_result"
    }
   ],
   "source": [
    "#导入langchain\n",
    "from langchain.agents import tool\n",
    "import requests\n",
    "\n",
    "@tool\n",
    "def searxng_search(query):\n",
    "    \"\"\"输入搜索内容，使用SearxNG进行搜索\"\"\"\n",
    "    Searxng_url = \"http://127.0.0.1:6688\"\n",
    "    # 配置搜索参数\n",
    "    #q=刘亦菲&category_general=1&language=auto&time_range=&safesearch=0&theme=simple&format=json#/\n",
    "    params = {\n",
    "        \"q\":query,\n",
    "        \"format\":\"json\",\n",
    "        \"category_general\":\"\",\n",
    "        \"language\":\"auto\",\n",
    "        \"time_range\":\"\",\n",
    "        # \"safesearch\":\"2\",\n",
    "        # \"engines\":\"bing\"\n",
    "        # \"category_videos\":\"\"\n",
    "    }\n",
    "    #发送请求\n",
    "    response = requests.get(Searxng_url,params=params)\n",
    "    # print(response)\n",
    "    if response.status_code == 200:\n",
    "        res = response.json()\n",
    "        resList = []\n",
    "        for item in res[\"results\"]:\n",
    "            resList.append({\n",
    "                \"title\":item[\"title\"],\n",
    "                \"content\":item[\"content\"],\n",
    "                \"url\":item[\"url\"]\n",
    "            })\n",
    "        # print(res)\n",
    "        return resList[:3]\n",
    "    else:\n",
    "        return response.raise_for_status()\n",
    "\n",
    "\n",
    "\n",
    "searxng_search.invoke(\"刘亦菲 最近 活动\")"
   ]
  },
  {
   "cell_type": "code",
   "execution_count": 9,
   "id": "182c4420-45a5-4ea7-b826-87aef28cc239",
   "metadata": {},
   "outputs": [],
   "source": [
    "@tool\n",
    "def get_weather(location):\n",
    "    \"\"\"根据输入的城市名称获取天气数据\"\"\"\n",
    "    api_key = \"SKcA5FGgmLvN7faJi\"\n",
    "    url = f\"https://api.seniverse.com/v3/weather/now.json?key={api_key}&location={location}&language=zh-Hans&unit=c\"\n",
    "    response = requests.get(url)\n",
    "    print(location)\n",
    "    if response.status_code == 200:\n",
    "        data = response.json()\n",
    "        #print(data)\n",
    "        weather = {\n",
    "            'description':data['results'][0][\"now\"][\"text\"],\n",
    "            'temperature':data['results'][0][\"now\"][\"temperature\"]\n",
    "        }\n",
    "        return weather\n",
    "    else:\n",
    "        raise Exception(f\"失败接收天气信息：{response.status_code}\")"
   ]
  },
  {
   "cell_type": "code",
   "execution_count": 10,
   "id": "9405a983-1579-4032-b1e7-c79bd67c06ce",
   "metadata": {},
   "outputs": [],
   "source": [
    "# from langchain.agents import Tool\n",
    "# from langchain_experimental.utilities import PythonREPL\n",
    "\n",
    "# python_repl = PythonREPL()\n",
    "# repl_tool = Tool(\n",
    "#     name=\"python_repl\",\n",
    "#     description=\"Python代码解释器，输入应该为有效的python命令。如果想要查看某个值的输出，应该使用print(...)打印出来\",\n",
    "#     func=python_repl.run\n",
    "# )"
   ]
  },
  {
   "cell_type": "code",
   "execution_count": 11,
   "id": "4f33b458-e48e-47d2-bf04-4dc8bc3e6387",
   "metadata": {},
   "outputs": [],
   "source": [
    "tools = [get_weather,searxng_search]"
   ]
  },
  {
   "cell_type": "code",
   "execution_count": 12,
   "id": "24cb63ce-aba8-4364-821d-34681e43f39f",
   "metadata": {},
   "outputs": [
    {
     "data": {
      "text/plain": [
       "ChatPromptTemplate(input_variables=['agent_scratchpad', 'input'], input_types={'agent_scratchpad': typing.List[typing.Union[langchain_core.messages.ai.AIMessage, langchain_core.messages.human.HumanMessage, langchain_core.messages.chat.ChatMessage, langchain_core.messages.system.SystemMessage, langchain_core.messages.function.FunctionMessage, langchain_core.messages.tool.ToolMessage]]}, partial_variables={'tools': 'get_weather: get_weather(location) - 根据输入的城市名称获取天气数据\\nsearxng_search: searxng_search(query) - 输入搜索内容，使用SearxNG进行搜索', 'tool_names': 'get_weather, searxng_search'}, messages=[SystemMessagePromptTemplate(prompt=PromptTemplate(input_variables=[], template='你是非常强大的助手，你可以使用各种工具来完成人类交给的问题和任务')), HumanMessagePromptTemplate(prompt=PromptTemplate(input_variables=['input', 'tool_names', 'tools'], template='尽可能帮助用户回答任何的问题。\\n\\n您可以使用以下工具来帮忙解决问题，如果已经知道了答案，也可以直接回答。\\n\\n{tools}\\n\\n回复我时，请以下面2种格式之一进行回复：\\n\\n格式1：如果你希望使用工具，请使用此JSON格式回复内容：\\n{{\\n    \"reason\": string, //叙述使用工具的原因\\n    \"action\": string, //要使用的工具。必须是 {tool_names} 之一\\n    \"action_input\": string //工具的输入\\n}}\\n\\n格式2：如果你认为你已经有答案或者已经通过使用工具找到了答案，像直接对用户的输入作出回复，请使用此JSON格式回复：\\n{{\\n    \"action\":\"Final Answer\",\\n    \"answer\": string //最终回复问题的答案放在这里\\n}}\\n\\n下面是用户的输入，请记住只回复上面的2种格式的其中1种，必须以json格式回复，不要回复其他内容。\\n用户的输入：{input}\\n')), MessagesPlaceholder(variable_name='agent_scratchpad')])"
      ]
     },
     "execution_count": 12,
     "metadata": {},
     "output_type": "execute_result"
    }
   ],
   "source": [
    "from langchain.tools.render import render_text_description\n",
    "\n",
    "prompt = prompt.partial(\n",
    "    tools = render_text_description(tools),\n",
    "    tool_names = \", \".join([t.name for t in tools])\n",
    "    \n",
    ")\n",
    "prompt"
   ]
  },
  {
   "cell_type": "code",
   "execution_count": 13,
   "id": "62d5b29d-eb81-4506-b496-05cba7270317",
   "metadata": {},
   "outputs": [],
   "source": [
    "from langchain_core.output_parsers.json import parse_json_markdown"
   ]
  },
  {
   "cell_type": "code",
   "execution_count": 14,
   "id": "6c418b71-c2d4-44be-b0d5-5773c749a72c",
   "metadata": {},
   "outputs": [],
   "source": [
    "def jsonParser(message):\n",
    "    return parse_json_markdown(message.content)\n",
    "chain = prompt | llm | jsonParser"
   ]
  },
  {
   "cell_type": "code",
   "execution_count": 15,
   "id": "698950e1-f447-433a-bdb7-0ecf1b7558f8",
   "metadata": {},
   "outputs": [
    {
     "data": {
      "text/plain": [
       "{'action': 'searxng_search', 'action_input': '刘亦菲 最近 活动'}"
      ]
     },
     "execution_count": 15,
     "metadata": {},
     "output_type": "execute_result"
    }
   ],
   "source": [
    "result = chain.invoke({\n",
    "    \"input\":\"刘亦菲最近有什么活动？\",\n",
    "    \"agent_scratchpad\":[]\n",
    "})\n",
    "result"
   ]
  },
  {
   "cell_type": "code",
   "execution_count": 16,
   "id": "3654e8eb-1a96-459c-831f-74ee6b428808",
   "metadata": {},
   "outputs": [
    {
     "name": "stdout",
     "output_type": "stream",
     "text": [
      "刘亦菲 最近 活动\n"
     ]
    },
    {
     "data": {
      "text/plain": [
       "[{'title': '2023年刘亦菲宝格丽的三次活动',\n",
       "  'content': '2023年12月24日 — 刘亦菲最近造型团队摸到灵感了，她的五官和身材特点特别适合油画风。自从前段时期柳宗源拍了这个系列之后的活动GQ，还有芭莎封面视频，宝格丽晚宴和 ...',\n",
       "  'url': 'https://m.163.com/dy/article/IMOEG9KF05562JCP.html'},\n",
       " {'title': '刘亦菲最近活动',\n",
       "  'content': '12月21日，刘亦菲出席澳门国际电影节活动造型曝光，照片中，刘亦菲身穿一袭天蓝色抹胸连衣裙，外搭同色系披风，性感又迷人。',\n",
       "  'url': 'https://www.toutiao.com/keyword/214095189'},\n",
       " {'title': '刘亦菲百万穿搭亮相宝格丽活动，生图暴露麒麟臂',\n",
       "  'content': '2023年11月16日 — 最近，女星刘亦菲现身奢牌活动，早在开场之前，大家就对刘亦菲的现场状态充满期待。刘亦菲团队方面也早早放出美图，然而，在看过刘亦菲的现场照之后，却 ...',\n",
       "  'url': 'https://www.163.com/dy/article/IJMSVED405179RJN.html'}]"
      ]
     },
     "execution_count": 16,
     "metadata": {},
     "output_type": "execute_result"
    }
   ],
   "source": [
    "def isUseTool(obj):\n",
    "    if obj[\"action\"] == \"Final Answer\":\n",
    "        return END\n",
    "    else:\n",
    "        for tool  in tools:\n",
    "            if obj[\"action\"] == tool.name:\n",
    "                print(obj[\"action_input\"])\n",
    "                return tool.invoke(obj[\"action_input\"])\n",
    "        print(\"找不到对应的工具名称：\",obj[\"action\"])\n",
    "\n",
    "isUseTool(result)\n",
    "    "
   ]
  },
  {
   "cell_type": "markdown",
   "id": "467cc48b-6026-41a7-a47e-5fa0035749a8",
   "metadata": {},
   "source": [
    "```python\n",
    "[\n",
    "    (\"system\",\"你是非常强大的助手，你可以使用各种工具来完成人类交给的问题和任务\"),\n",
    "    (\"user\",promptTemplate),\n",
    "    (\"assiatant\",\"\"\"{'reason': '用户询问了关于刘亦菲最近的活动信息，我需要搜索来获取答案','action': 'searxng_search','action_input': '刘亦菲 最近 活动'}\"\"\"\n",
    "    (\"user\",\"\"\"工具响应：\n",
    "------\n",
    "[{'title': '刘亦菲（华语影视女演员、歌手）_百度百科',\n",
    "  'content': '刘亦菲，1987年8月25日出生于湖北省武汉市，华语影视女演员、歌手，毕业于北京电影学院2002级表演系本科。 2002年，因出演民国剧《金粉世家》中白秀珠一角踏入演艺圈。 2003年，凭借武侠剧《天龙八部》中王语嫣一角提名第1届电视剧风云盛典古装剧最佳女演员。 2004年，凭借仙侠剧《仙剑奇侠传》中的赵灵儿一角获得高人气与关 …',\n",
    "  'url': 'https://baike.baidu.com/item/%E5%88%98%E4%BA%A6%E8%8F%B2/136156'},\n",
    " {'title': '刘亦菲 - 搜狗百科',\n",
    "  'content': '刘亦菲（Crystal Liu，1987年8月25日-），出生于湖北省武汉市，毕业于北京电影学院，美籍华裔女演员、歌手。 2002年，因出演电视剧《金粉世家》中白秀珠一角踏入演艺圈。2003年，因主演武侠剧《天龙八部》王语嫣崭露头角。',\n",
    "  'url': 'https://baike.sogou.com/v53047.htm?fromTitle=%E5%88%98%E4%BA%A6%E8%8F%B2'},\n",
    " {'title': '如何评价刘亦菲? - 知乎',\n",
    "  'content': '刘亦菲是一个业务能力单薄的敬业演员和一个极其善良坚强的人。. 是一个是非争议不断的话题艺人，路人缘知名度好到逆天的 超级明星 。. 也同时是一个拥有伟大的艺术家梦，却被困在传奇美貌 …',\n",
    "  'url': 'https://www.zhihu.com/question/31126795/answer/746595656'}]\n",
    "------\n",
    "\n",
    "请根据工具的响应判断，是否能够回答问题：\n",
    "\n",
    "{input}\n",
    "\n",
    "请根据工具响应的内容，思考接下来回复。回复格式严格按照前面所说的2种JSON回复格式，选择其中1种进行回复。请记住只选择单个选项格式，以JSON格式回复内容，不要回复其他内容\n",
    "\n",
    "\"\"\")\n",
    ")\n",
    "]\n",
    "```"
   ]
  },
  {
   "cell_type": "code",
   "execution_count": 22,
   "id": "a9851455-2b5a-49d6-8483-ee4244675805",
   "metadata": {},
   "outputs": [],
   "source": [
    "tool_response_prompt = \"\"\"工具响应：\n",
    "------\n",
    "[{{'title': '2023年刘亦菲宝格丽的三次活动',\n",
    "  'content': '2023年12月24日 — 刘亦菲最近造型团队摸到灵感了，她的五官和身材特点特别适合油画风。自从前段时期柳宗源拍了这个系列之后的活动GQ，还有芭莎封面视频，宝格丽晚宴和 ...',\n",
    "  'url': 'https://m.163.com/dy/article/IMOEG9KF05562JCP.html'}},\n",
    " {{'title': '刘亦菲最近活动',\n",
    "  'content': '12月21日，刘亦菲出席澳门国际电影节活动造型曝光，照片中，刘亦菲身穿一袭天蓝色抹胸连衣裙，外搭同色系披风，性感又迷人。',\n",
    "  'url': 'https://www.toutiao.com/keyword/214095189'}},\n",
    " {{'title': '刘亦菲百万穿搭亮相宝格丽活动，生图暴露麒麟臂',\n",
    "  'content': '2023年11月16日 — 最近，女星刘亦菲现身奢牌活动，早在开场之前，大家就对刘亦菲的现场状态充满期待。刘亦菲团队方面也早早放出美图，然而，在看过刘亦菲的现场照之后，却 ...',\n",
    "  'url': 'https://www.163.com/dy/article/IJMSVED405179RJN.html'}}]\n",
    "------\n",
    "\n",
    "请根据工具的响应判断，是否能够回答问题：\n",
    "\n",
    "{input}\n",
    "\n",
    "请根据工具响应的内容，思考接下来回复。回复格式严格按照前面所说的2种JSON回复格式，选择其中1种进行回复。请记住只选择单个选项格式，以JSON格式回复内容，不要回复其他内容\n",
    "\n",
    "\"\"\""
   ]
  },
  {
   "cell_type": "code",
   "execution_count": 23,
   "id": "27f0c3b4-1b8e-491d-a5c0-9146a44ca294",
   "metadata": {},
   "outputs": [
    {
     "data": {
      "text/plain": [
       "AIMessage(content='{ \\n\"action\": \"Final Answer\", \\n\"answer\": \"刘亦菲最近的活动包括：\\n\\n1. 2023年12月24日，她出席了宝格丽的活动，并且造型团队似乎找到了新的灵感，她的五官和身材特点特别适合油画风。这次活动的相关内容可以在GQ杂志和芭莎封面视频中找到。\\n\\n2. 2023年12月21日，刘亦菲参加了澳门国际电影节，她身穿天蓝色抹胸连衣裙和同色系披风，造型性感迷人。\\n\\n3. 2023年11月16日，刘亦菲在宝格丽的活动上亮相，她的穿搭价值百万，尽管生图显示了她的麒麟臂，但整体状态依然引人注目。\\n\\n你可以通过上述提及的链接获取更多详细信息和图片。\" \\n}', response_metadata={'token_usage': {'completion_tokens': 189, 'prompt_tokens': 189, 'total_tokens': 378}, 'model_name': 'gpt-3.5-turbo', 'system_fingerprint': None, 'finish_reason': 'stop', 'logprobs': None})"
      ]
     },
     "execution_count": 23,
     "metadata": {},
     "output_type": "execute_result"
    }
   ],
   "source": [
    "from langchain_core.messages import AIMessage,HumanMessage\n",
    "query = \"刘亦菲最近有什么活动？\";\n",
    "agent_scratchpad = [\n",
    "    AIMessage(\"{'reason': '用户询问了关于刘亦菲最近的活动信息，我需要搜索来获取答案','action': 'searxng_search','action_input': '刘亦菲 最近 活动'}\"),\n",
    "    HumanMessage(\n",
    "        content = tool_response_prompt.format(input=query),\n",
    "    )\n",
    "]\n",
    "chain = prompt | llm \n",
    "result = chain.invoke({\n",
    "    \"input\":\"刘亦菲最近有什么活动？\",\n",
    "    \"agent_scratchpad\":agent_scratchpad\n",
    "})\n",
    "result"
   ]
  },
  {
   "cell_type": "code",
   "execution_count": 24,
   "id": "7c3d9fba-5fdb-415e-9d94-b2fc8c3aeb8f",
   "metadata": {},
   "outputs": [],
   "source": [
    "from langgraph.graph import END,StateGraph,MessageGraph\n",
    "from typing import TypedDict,List,Annotated\n",
    "import operator\n",
    "\n",
    "class GState(TypedDict):\n",
    "    messages: Annotated[List, operator.add]"
   ]
  },
  {
   "cell_type": "code",
   "execution_count": 25,
   "id": "1c01b6c5-ac55-4f97-966d-95a844b0412e",
   "metadata": {},
   "outputs": [],
   "source": [
    "def isUseTool(gState):\n",
    "    print(\"isUseTool------------\")\n",
    "    print(gState)\n",
    "    obj = gState[\"messages\"][-1]\n",
    "    if obj[\"action\"] == \"Final Answer\":\n",
    "        return END\n",
    "    else:\n",
    "        return \"toolNode\"\n",
    "\n",
    "\n",
    "def useTool(gState):\n",
    "    print(\"useTool------------\")\n",
    "    print(gState)\n",
    "    obj = gState[\"messages\"][-1]\n",
    "    for tool  in tools:\n",
    "        if obj[\"action\"] == tool.name:\n",
    "            # print(obj[\"action_input\"])\n",
    "            return {\"messages\":[tool.invoke(obj[\"action_input\"])]}\n",
    "    print(\"找不到对应的工具名称：\",obj[\"action\"])"
   ]
  },
  {
   "cell_type": "code",
   "execution_count": 26,
   "id": "b262dbe9-7188-4985-95a7-981d5c76606f",
   "metadata": {},
   "outputs": [],
   "source": [
    "import json\n",
    "agentGraph = StateGraph(GState)\n",
    "\n",
    "def startParse(gState):\n",
    "    print(\"startParse--------------\")\n",
    "    print(gState)\n",
    "    tool_response_prompt = \"\"\"工具响应：\n",
    "------\n",
    "{tools_response}\n",
    "------\n",
    "\n",
    "请根据工具的响应判断，是否能够回答问题：\n",
    "\n",
    "{input}\n",
    "\n",
    "请根据工具响应的内容，思考接下来回复。回复格式严格按照前面所说的2种JSON回复格式，选择其中1种进行回复。请记住只选择单个选项格式，以JSON格式回复内容，不要回复其他内容\n",
    "\n",
    "\"\"\"\n",
    "    if len( gState[\"messages\"])>1:\n",
    "        agent_scratchpad = [\n",
    "            AIMessage(json.dumps(gState[\"messages\"][-2])),\n",
    "            HumanMessage(\n",
    "                content = tool_response_prompt.format(\n",
    "                    input=gState[\"messages\"][0],\n",
    "                    tools_response=json.dumps(gState[\"messages\"][-1])\n",
    "                ),\n",
    "            )\n",
    "        ]\n",
    "    else:\n",
    "        agent_scratchpad = []\n",
    "    return {\n",
    "        \"input\":gState[\"messages\"][0],\n",
    "        \"agent_scratchpad\":agent_scratchpad\n",
    "    }\n",
    "\n",
    "def startMsgParse(message):\n",
    "    message = message.content.replace(\"'\",'\"')\n",
    "    message = parse_json_markdown(message)\n",
    "     \n",
    "    return {\"messages\":[message]}\n",
    "\n",
    "agentGraph.add_node(\"startNode\", startParse | chain | startMsgParse )\n",
    "\n",
    "agentGraph.add_node(\"toolNode\", useTool )\n",
    "\n",
    "agentGraph.add_conditional_edges(\"startNode\",isUseTool)\n",
    "\n",
    "agentGraph.add_edge(\"toolNode\",\"startNode\")\n",
    "\n",
    "agentGraph.set_entry_point(\"startNode\")\n",
    "\n",
    "agent = agentGraph.compile()\n",
    "# agent\n"
   ]
  },
  {
   "cell_type": "code",
   "execution_count": 27,
   "id": "1ff3c831-0728-4b1b-b98a-d77ee2383729",
   "metadata": {},
   "outputs": [
    {
     "data": {
      "image/png": "[encoded data removed]",
      "text/plain": [
       "<IPython.core.display.Image object>"
      ]
     },
     "execution_count": 27,
     "metadata": {},
     "output_type": "execute_result"
    }
   ],
   "source": [
    "from IPython.display import Image\n",
    "\n",
    "Image(agent.get_graph().draw_png())"
   ]
  },
  {
   "cell_type": "code",
   "execution_count": 29,
   "id": "ed834c2e-9ff3-4491-a603-ef11583bc8fd",
   "metadata": {},
   "outputs": [
    {
     "name": "stdout",
     "output_type": "stream",
     "text": [
      "startParse--------------\n",
      "{'messages': ['刘亦菲最近有什么活动？']}\n",
      "isUseTool------------\n",
      "{'messages': ['刘亦菲最近有什么活动？', {'action': 'searxng_search', 'action_input': '刘亦菲 最近 活动'}]}\n",
      "useTool------------\n",
      "{'messages': ['刘亦菲最近有什么活动？', {'action': 'searxng_search', 'action_input': '刘亦菲 最近 活动'}]}\n",
      "startParse--------------\n",
      "{'messages': ['刘亦菲最近有什么活动？', {'action': 'searxng_search', 'action_input': '刘亦菲 最近 活动'}, [{'title': '2023年刘亦菲宝格丽的三次活动', 'content': '2023年12月24日 — 刘亦菲最近造型团队摸到灵感了，她的五官和身材特点特别适合油画风。自从前段时期柳宗源拍了这个系列之后的活动GQ，还有芭莎封面视频，宝格丽晚宴和 ...', 'url': 'https://m.163.com/dy/article/IMOEG9KF05562JCP.html'}, {'title': '刘亦菲最近活动', 'content': '12月21日，刘亦菲出席澳门国际电影节活动造型曝光，照片中，刘亦菲身穿一袭天蓝色抹胸连衣裙，外搭同色系披风，性感又迷人。', 'url': 'https://www.toutiao.com/keyword/214095189'}, {'title': '刘亦菲百万穿搭亮相宝格丽活动，生图暴露麒麟臂', 'content': '2023年11月16日 — 最近，女星刘亦菲现身奢牌活动，早在开场之前，大家就对刘亦菲的现场状态充满期待。刘亦菲团队方面也早早放出美图，然而，在看过刘亦菲的现场照之后，却 ...', 'url': 'https://www.163.com/dy/article/IJMSVED405179RJN.html'}]]}\n",
      "isUseTool------------\n",
      "{'messages': ['刘亦菲最近有什么活动？', {'action': 'searxng_search', 'action_input': '刘亦菲 最近 活动'}, [{'title': '2023年刘亦菲宝格丽的三次活动', 'content': '2023年12月24日 — 刘亦菲最近造型团队摸到灵感了，她的五官和身材特点特别适合油画风。自从前段时期柳宗源拍了这个系列之后的活动GQ，还有芭莎封面视频，宝格丽晚宴和 ...', 'url': 'https://m.163.com/dy/article/IMOEG9KF05562JCP.html'}, {'title': '刘亦菲最近活动', 'content': '12月21日，刘亦菲出席澳门国际电影节活动造型曝光，照片中，刘亦菲身穿一袭天蓝色抹胸连衣裙，外搭同色系披风，性感又迷人。', 'url': 'https://www.toutiao.com/keyword/214095189'}, {'title': '刘亦菲百万穿搭亮相宝格丽活动，生图暴露麒麟臂', 'content': '2023年11月16日 — 最近，女星刘亦菲现身奢牌活动，早在开场之前，大家就对刘亦菲的现场状态充满期待。刘亦菲团队方面也早早放出美图，然而，在看过刘亦菲的现场照之后，却 ...', 'url': 'https://www.163.com/dy/article/IJMSVED405179RJN.html'}], {'action': 'Final Answer', 'answer': '刘亦菲最近的活动包括参加GQ拍摄、出演电影《晴雅集》、参与618晚会等。例如，2023年12月24日，她参加了某系列的拍摄；12月21日，她在日本国际电影节上亮相；11月16日，她现身某个活动，身穿淡紫色礼服，状态良好。'}]}\n"
     ]
    },
    {
     "data": {
      "text/plain": [
       "{'messages': ['刘亦菲最近有什么活动？',\n",
       "  {'action': 'searxng_search', 'action_input': '刘亦菲 最近 活动'},\n",
       "  [{'title': '2023年刘亦菲宝格丽的三次活动',\n",
       "    'content': '2023年12月24日 — 刘亦菲最近造型团队摸到灵感了，她的五官和身材特点特别适合油画风。自从前段时期柳宗源拍了这个系列之后的活动GQ，还有芭莎封面视频，宝格丽晚宴和 ...',\n",
       "    'url': 'https://m.163.com/dy/article/IMOEG9KF05562JCP.html'},\n",
       "   {'title': '刘亦菲最近活动',\n",
       "    'content': '12月21日，刘亦菲出席澳门国际电影节活动造型曝光，照片中，刘亦菲身穿一袭天蓝色抹胸连衣裙，外搭同色系披风，性感又迷人。',\n",
       "    'url': 'https://www.toutiao.com/keyword/214095189'},\n",
       "   {'title': '刘亦菲百万穿搭亮相宝格丽活动，生图暴露麒麟臂',\n",
       "    'content': '2023年11月16日 — 最近，女星刘亦菲现身奢牌活动，早在开场之前，大家就对刘亦菲的现场状态充满期待。刘亦菲团队方面也早早放出美图，然而，在看过刘亦菲的现场照之后，却 ...',\n",
       "    'url': 'https://www.163.com/dy/article/IJMSVED405179RJN.html'}],\n",
       "  {'action': 'Final Answer',\n",
       "   'answer': '刘亦菲最近的活动包括参加GQ拍摄、出演电影《晴雅集》、参与618晚会等。例如，2023年12月24日，她参加了某系列的拍摄；12月21日，她在日本国际电影节上亮相；11月16日，她现身某个活动，身穿淡紫色礼服，状态良好。'}]}"
      ]
     },
     "execution_count": 29,
     "metadata": {},
     "output_type": "execute_result"
    }
   ],
   "source": [
    "agent.invoke({\"messages\":[\"刘亦菲最近有什么活动？\"]})"
   ]
  },
  {
   "cell_type": "code",
   "execution_count": 34,
   "id": "838f80c0-aa20-4963-9181-0128db429888",
   "metadata": {},
   "outputs": [
    {
     "name": "stdout",
     "output_type": "stream",
     "text": [
      "startParse--------------\n",
      "{'messages': ['广州的天气如何？']}\n",
      "isUseTool------------\n",
      "{'messages': ['广州的天气如何？', {'action': 'get_weather', 'action_input': '广州'}]}\n",
      "useTool------------\n",
      "{'messages': ['广州的天气如何？', {'action': 'get_weather', 'action_input': '广州'}]}\n",
      "广州\n",
      "startParse--------------\n",
      "{'messages': ['广州的天气如何？', {'action': 'get_weather', 'action_input': '广州'}, {'description': '多云', 'temperature': '20'}]}\n",
      "isUseTool------------\n",
      "{'messages': ['广州的天气如何？', {'action': 'get_weather', 'action_input': '广州'}, {'description': '多云', 'temperature': '20'}, {'action': 'Final Answer', 'answer': '广州的天气是多云，温度为20度'}]}\n"
     ]
    },
    {
     "data": {
      "text/plain": [
       "{'messages': ['广州的天气如何？',\n",
       "  {'action': 'get_weather', 'action_input': '广州'},\n",
       "  {'description': '多云', 'temperature': '20'},\n",
       "  {'action': 'Final Answer', 'answer': '广州的天气是多云，温度为20度'}]}"
      ]
     },
     "execution_count": 34,
     "metadata": {},
     "output_type": "execute_result"
    }
   ],
   "source": [
    "agent.invoke({\"messages\":[\"广州的天气如何？\"]})"
   ]
  },
  {
   "cell_type": "code",
   "execution_count": 135,
   "id": "16c7093d-c985-4d2f-94c2-d0a45c95e4c8",
   "metadata": {},
   "outputs": [],
   "source": []
  },
  {
   "cell_type": "code",
   "execution_count": null,
   "id": "52ea1780-55d8-4606-b28b-719357eac950",
   "metadata": {},
   "outputs": [],
   "source": []
  },
  {
   "cell_type": "code",
   "execution_count": null,
   "id": "706fc04f-c504-474a-9bca-ac4e5a0ad957",
   "metadata": {},
   "outputs": [],
   "source": []
  }
 ],
 "metadata": {
  "kernelspec": {
   "display_name": "Python 3 (ipykernel)",
   "language": "python",
   "name": "python3"
  },
  "language_info": {
   "codemirror_mode": {
    "name": "ipython",
    "version": 3
   },
   "file_extension": ".py",
   "mimetype": "text/x-python",
   "name": "python",
   "nbconvert_exporter": "python",
   "pygments_lexer": "ipython3",
   "version": "3.10.14"
  }
 },
 "nbformat": 4,
 "nbformat_minor": 5
}
